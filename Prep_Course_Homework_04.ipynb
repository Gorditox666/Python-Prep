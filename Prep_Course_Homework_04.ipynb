{
 "cells": [
  {
   "attachments": {},
   "cell_type": "markdown",
   "metadata": {},
   "source": [
    "## Flujos de Control"
   ]
  },
  {
   "attachments": {},
   "cell_type": "markdown",
   "metadata": {},
   "source": [
    "1) Crear una variable que contenga un elemento del conjunto de números enteros y luego imprimir por pantalla si es mayor o menor a cero"
   ]
  },
  {
   "cell_type": "code",
   "execution_count": 1,
   "metadata": {},
   "outputs": [
    {
     "name": "stdout",
     "output_type": "stream",
     "text": [
      "Soy mayor a 0\n"
     ]
    }
   ],
   "source": [
    "c=5\n",
    "if (c<0):\n",
    "    print(\"Soy menor a 0\")\n",
    "elif (c>0):\n",
    "    print(\"Soy mayor a 0\")\n",
    "else:\n",
    "    print(\"Soy igual a 0\")        "
   ]
  },
  {
   "attachments": {},
   "cell_type": "markdown",
   "metadata": {},
   "source": [
    "2) Crear dos variables y un condicional que informe si son del mismo tipo de dato"
   ]
  },
  {
   "cell_type": "code",
   "execution_count": 2,
   "metadata": {},
   "outputs": [
    {
     "name": "stdout",
     "output_type": "stream",
     "text": [
      "Las variables son de distinto tipo de dato\n"
     ]
    }
   ],
   "source": [
    "d=5\n",
    "e=6.5\n",
    "if (d==e):\n",
    "    print(\"Las variables son del mismo tipo de dato\")\n",
    "else:\n",
    "    print(\"Las variables son de distinto tipo de dato\")\n",
    "        "
   ]
  },
  {
   "cell_type": "code",
   "execution_count": 4,
   "metadata": {},
   "outputs": [
    {
     "name": "stdout",
     "output_type": "stream",
     "text": [
      "Las variables 3.2 y 2 son de distinto tipo de dato\n"
     ]
    }
   ],
   "source": [
    "# El formato utilizado a continuación en el print es conocido como f-string o formatted string literals en Python. Las f-strings permiten incrustar expresiones dentro de una cadena de texto mediante llaves {} y el prefijo \"f\" antes de la cadena. Dentro de las llaves, puedes colocar variables, expresiones o incluso invocar funciones para su evaluación e inclusión en la cadena resultante.\n",
    "a = 3.2\n",
    "b = 2\n",
    "print(f'Las variables {a} y {b} son de distinto tipo de dato')"
   ]
  },
  {
   "attachments": {},
   "cell_type": "markdown",
   "metadata": {},
   "source": [
    "3) Para los valores enteros del 1 al 20, imprimir por pantalla si es par o impar"
   ]
  },
  {
   "cell_type": "code",
   "execution_count": 1,
   "metadata": {},
   "outputs": [
    {
     "name": "stdout",
     "output_type": "stream",
     "text": [
      "El número  1 Es impar\n",
      "El número  2 Es Par\n",
      "El número  3 Es impar\n",
      "El número  4 Es Par\n",
      "El número  5 Es impar\n",
      "El número  6 Es Par\n",
      "El número  7 Es impar\n",
      "El número  8 Es Par\n",
      "El número  9 Es impar\n",
      "El número  10 Es Par\n",
      "El número  11 Es impar\n",
      "El número  12 Es Par\n",
      "El número  13 Es impar\n",
      "El número  14 Es Par\n",
      "El número  15 Es impar\n",
      "El número  16 Es Par\n",
      "El número  17 Es impar\n",
      "El número  18 Es Par\n",
      "El número  19 Es impar\n",
      "El número  20 Es Par\n"
     ]
    }
   ],
   "source": [
    "#Resuelto por bucle for\n",
    "\n",
    "for i in range(1,21):\n",
    "    if i%2 == 0:\n",
    "        print(\"El número \", str(i), \"Es Par\")\n",
    "    else:\n",
    "        print(\"El número \", str(i), \"Es impar\")   "
   ]
  },
  {
   "cell_type": "code",
   "execution_count": 3,
   "metadata": {},
   "outputs": [
    {
     "name": "stdout",
     "output_type": "stream",
     "text": [
      "El número  1 Es impar\n",
      "El número  2 Es par\n",
      "El número  3 Es impar\n",
      "El número  4 Es par\n",
      "El número  5 Es impar\n",
      "El número  6 Es par\n",
      "El número  7 Es impar\n",
      "El número  8 Es par\n",
      "El número  9 Es impar\n",
      "El número  10 Es par\n",
      "El número  11 Es impar\n",
      "El número  12 Es par\n",
      "El número  13 Es impar\n",
      "El número  14 Es par\n",
      "El número  15 Es impar\n",
      "El número  16 Es par\n",
      "El número  17 Es impar\n",
      "El número  18 Es par\n",
      "El número  19 Es impar\n",
      "El número  20 Es par\n"
     ]
    }
   ],
   "source": [
    "#Resuelto por bucle while\n",
    "\n",
    "i=1\n",
    "while (i<=20):\n",
    "    if (i%2 == 0):\n",
    "        print(f\"El número \", i , \"Es par\")\n",
    "    else:\n",
    "        print(f\"El número \", i , \"Es impar\")\n",
    "    i = i+1    \n"
   ]
  },
  {
   "attachments": {},
   "cell_type": "markdown",
   "metadata": {},
   "source": [
    "4) En un ciclo for mostrar para los valores entre 0 y 5 el resultado de elevarlo a la potencia igual a 3"
   ]
  },
  {
   "cell_type": "code",
   "execution_count": 4,
   "metadata": {},
   "outputs": [
    {
     "name": "stdout",
     "output_type": "stream",
     "text": [
      "Valor:  0 Elevado a la 3era potencia  0\n",
      "Valor:  1 Elevado a la 3era potencia  1\n",
      "Valor:  2 Elevado a la 3era potencia  8\n",
      "Valor:  3 Elevado a la 3era potencia  27\n",
      "Valor:  4 Elevado a la 3era potencia  64\n",
      "Valor:  5 Elevado a la 3era potencia  125\n"
     ]
    }
   ],
   "source": [
    "for i in range (0,6):\n",
    "    print(\"Valor: \", str(i), \"Elevado a la 3era potencia \", str(i**3))"
   ]
  },
  {
   "attachments": {},
   "cell_type": "markdown",
   "metadata": {},
   "source": [
    "5) Crear una variable que contenga un número entero y realizar un ciclo for la misma cantidad de ciclos"
   ]
  },
  {
   "cell_type": "code",
   "execution_count": 10,
   "metadata": {},
   "outputs": [
    {
     "name": "stdout",
     "output_type": "stream",
     "text": [
      "5\n"
     ]
    }
   ],
   "source": [
    "mono=6\n",
    "for i in range (0,mono):\n",
    "    pass\n",
    "print(i)\n"
   ]
  },
  {
   "attachments": {},
   "cell_type": "markdown",
   "metadata": {},
   "source": [
    "6) Utilizar un ciclo while para realizar el factorial de un número guardado en una variable, sólo si la variable contiene un número entero mayor a 0"
   ]
  },
  {
   "cell_type": "code",
   "execution_count": 11,
   "metadata": {},
   "outputs": [
    {
     "name": "stdout",
     "output_type": "stream",
     "text": [
      "El factorial es 120\n"
     ]
    }
   ],
   "source": [
    "n = 5\n",
    "if (type(n) == int):\n",
    "    if (n > 0):\n",
    "        factorial = n\n",
    "        while (n > 2):\n",
    "            n = n - 1\n",
    "            factorial = factorial * n\n",
    "        print('El factorial es', factorial)\n",
    "    else:\n",
    "        print('La variable no es mayor a cero')\n",
    "else:\n",
    "    print('La variable no es un entero')"
   ]
  },
  {
   "cell_type": "code",
   "execution_count": 12,
   "metadata": {},
   "outputs": [
    {
     "name": "stdout",
     "output_type": "stream",
     "text": [
      "120\n"
     ]
    }
   ],
   "source": [
    "# resolución con bucle for\n",
    "\n",
    "numero = 5\n",
    "factorial = 1\n",
    "for i in range(2, (numero + 1)):\n",
    "    factorial = i * factorial\n",
    "print(factorial)\n",
    "\n"
   ]
  },
  {
   "attachments": {},
   "cell_type": "markdown",
   "metadata": {},
   "source": [
    "7) Crear un ciclo for dentro de un ciclo while"
   ]
  },
  {
   "cell_type": "code",
   "execution_count": 13,
   "metadata": {},
   "outputs": [
    {
     "name": "stdout",
     "output_type": "stream",
     "text": [
      "Ciclo while nro 1\n",
      "Ciclo for nro 1\n",
      "Ciclo while nro 2\n",
      "Ciclo for nro 1\n",
      "Ciclo for nro 2\n",
      "Ciclo while nro 3\n",
      "Ciclo for nro 1\n",
      "Ciclo for nro 2\n",
      "Ciclo for nro 3\n",
      "Ciclo while nro 4\n",
      "Ciclo for nro 1\n",
      "Ciclo for nro 2\n",
      "Ciclo for nro 3\n",
      "Ciclo for nro 4\n"
     ]
    }
   ],
   "source": [
    "n = 1\n",
    "while n < 5:\n",
    "    print('Ciclo while nro ' + str(n))  # Imprime el número del ciclo while\n",
    "    for i in range(1, n+1): # como la función range(a, b) genera una secuencia de números desde a hasta b-1. Para que el bucle for incluya el número n, usamos range(1, n+1) en lugar de range(1, n).\n",
    "        print('Ciclo for nro ' + str(i))  # Imprime el número del ciclo for\n",
    "    n += 1"
   ]
  },
  {
   "attachments": {},
   "cell_type": "markdown",
   "metadata": {},
   "source": [
    "8) Crear un ciclo while dentro de un ciclo for"
   ]
  },
  {
   "cell_type": "code",
   "execution_count": 15,
   "metadata": {},
   "outputs": [],
   "source": [
    "n = 5\n",
    "for i in range(1, n):\n",
    "    while(n < 5):\n",
    "        n -= 1\n",
    "        print('Ciclo while nro ' + str(n))\n",
    "        print('Ciclo for nro ' + str(i))"
   ]
  },
  {
   "cell_type": "code",
   "execution_count": 16,
   "metadata": {},
   "outputs": [
    {
     "name": "stdout",
     "output_type": "stream",
     "text": [
      "Ciclo for nro 1\n",
      "Ciclo while nro 5\n",
      "Ciclo while nro 4\n",
      "Ciclo while nro 3\n",
      "Ciclo while nro 2\n",
      "Ciclo while nro 1\n",
      "Ciclo for nro 2\n",
      "Ciclo while nro 5\n",
      "Ciclo while nro 4\n",
      "Ciclo while nro 3\n",
      "Ciclo while nro 2\n",
      "Ciclo while nro 1\n",
      "Ciclo for nro 3\n",
      "Ciclo while nro 5\n",
      "Ciclo while nro 4\n",
      "Ciclo while nro 3\n",
      "Ciclo while nro 2\n",
      "Ciclo while nro 1\n",
      "Ciclo for nro 4\n",
      "Ciclo while nro 5\n",
      "Ciclo while nro 4\n",
      "Ciclo while nro 3\n",
      "Ciclo while nro 2\n",
      "Ciclo while nro 1\n"
     ]
    }
   ],
   "source": [
    "n = 5\n",
    "for i in range(1, n):\n",
    "    print('Ciclo for nro ' + str(i))  # Imprime el número del ciclo for\n",
    "    \n",
    "    n_temp = n  # Almacena el valor original de n en una variable temporal\n",
    "    \n",
    "    while n_temp > 0:  # Ciclo while que se ejecuta mientras n_temp sea mayor que 0\n",
    "        print('Ciclo while nro ' + str(n_temp))  # Imprime el número del ciclo while\n",
    "        n_temp -= 1\n",
    "        \n",
    "        if n_temp <= 0:\n",
    "            break  # Sale del ciclo while cuando n_temp sea menor o igual a 0"
   ]
  },
  {
   "attachments": {},
   "cell_type": "markdown",
   "metadata": {},
   "source": [
    "9) Imprimir los números primos existentes entre 0 y 30"
   ]
  },
  {
   "cell_type": "code",
   "execution_count": 17,
   "metadata": {},
   "outputs": [
    {
     "name": "stdout",
     "output_type": "stream",
     "text": [
      "0\n",
      "1\n",
      "2\n",
      "3\n",
      "5\n",
      "7\n",
      "11\n",
      "13\n",
      "17\n",
      "19\n",
      "23\n",
      "29\n"
     ]
    }
   ],
   "source": [
    "tope_rango=30\n",
    "n = 0\n",
    "primo = True\n",
    "while (n < tope_rango):\n",
    "    for div in range(2, n):\n",
    "        if (n % div == 0):\n",
    "            primo = False\n",
    "    if (primo):\n",
    "        print(n)\n",
    "    else:\n",
    "        primo = True\n",
    "    n += 1"
   ]
  },
  {
   "cell_type": "code",
   "execution_count": 18,
   "metadata": {},
   "outputs": [
    {
     "name": "stdout",
     "output_type": "stream",
     "text": [
      "0\n",
      "1\n",
      "2\n",
      "3\n",
      "5\n",
      "7\n",
      "11\n",
      "13\n",
      "17\n",
      "19\n",
      "23\n",
      "29\n"
     ]
    }
   ],
   "source": [
    "# Establecemos el valor máximo del rango\n",
    "tope_rango = 30\n",
    "\n",
    "# Inicializamos la variable n en 0\n",
    "n = 0\n",
    "\n",
    "# Inicializamos la variable primo como verdadera\n",
    "primo = True\n",
    "\n",
    "# Comenzamos un bucle while que se ejecutará mientras n sea menor que el tope_rango\n",
    "while n < tope_rango:\n",
    "    # Comenzamos un bucle for que itera desde 2 hasta n-1\n",
    "    for div in range(2, n):\n",
    "        # Comprobamos si n es divisible entre div\n",
    "        if n % div == 0:\n",
    "            # Si es divisible, marcamos primo como falso\n",
    "            primo = False\n",
    "    \n",
    "    # Verificamos si la variable primo es verdadera\n",
    "    if primo:\n",
    "        # Si es verdadera, significa que n es un número primo, por lo que lo imprimimos\n",
    "        print(n)\n",
    "    else:\n",
    "        # Si primo es falso, significa que n no es un número primo, por lo que lo restablecemos a verdadero\n",
    "        primo = True\n",
    "    \n",
    "    # Incrementamos n en 1 para pasar al siguiente número\n",
    "    n += 1"
   ]
  },
  {
   "attachments": {},
   "cell_type": "markdown",
   "metadata": {},
   "source": [
    "10) ¿Se puede mejorar el proceso del punto 9? Utilizar las sentencias break y/ó continue para tal fin"
   ]
  },
  {
   "cell_type": "code",
   "execution_count": 19,
   "metadata": {},
   "outputs": [
    {
     "name": "stdout",
     "output_type": "stream",
     "text": [
      "0\n",
      "1\n",
      "2\n",
      "3\n",
      "5\n",
      "7\n",
      "11\n",
      "13\n",
      "17\n",
      "19\n",
      "23\n",
      "29\n"
     ]
    }
   ],
   "source": [
    "n = 0\n",
    "primo = True\n",
    "while (n < tope_rango):\n",
    "    for div in range(2, n):\n",
    "        if (n % div == 0):\n",
    "            primo = False\n",
    "            break\n",
    "    if (primo):\n",
    "        print(n)\n",
    "    else:\n",
    "        primo = True\n",
    "    n += 1"
   ]
  },
  {
   "cell_type": "code",
   "execution_count": 20,
   "metadata": {},
   "outputs": [
    {
     "name": "stdout",
     "output_type": "stream",
     "text": [
      "0\n",
      "1\n",
      "2\n",
      "3\n",
      "5\n",
      "7\n",
      "11\n",
      "13\n",
      "17\n",
      "19\n",
      "23\n",
      "29\n"
     ]
    }
   ],
   "source": [
    "# Inicializamos la variable n en 0\n",
    "n = 0\n",
    "\n",
    "# Inicializamos la variable primo como verdadera\n",
    "primo = True\n",
    "\n",
    "# Comenzamos un bucle while que se ejecutará mientras n sea menor que el tope_rango\n",
    "while n < tope_rango:\n",
    "    # Comenzamos un bucle for que itera desde 2 hasta n-1\n",
    "    for div in range(2, n):\n",
    "        # Comprobamos si n es divisible entre div\n",
    "        if n % div == 0:\n",
    "            # Si es divisible, marcamos primo como falso y salimos del bucle for por la sentencia break\n",
    "            primo = False\n",
    "            break\n",
    "    \n",
    "    # Verificamos si la variable primo es verdadera\n",
    "    if primo:\n",
    "        # Si es verdadera, significa que n es un número primo, por lo que lo imprimimos\n",
    "        print(n)\n",
    "    else:\n",
    "        # Si primo es falso, significa que n no es un número primo, por lo que lo restablecemos a verdadero\n",
    "        primo = True\n",
    "    \n",
    "    # Incrementamos n en 1 para pasar al siguiente número\n",
    "    n += 1\n"
   ]
  },
  {
   "attachments": {},
   "cell_type": "markdown",
   "metadata": {},
   "source": [
    "11) En los puntos 9 y 10, se diseño un código que encuentra números primos y además se lo optimizó. ¿Es posible saber en qué medida se optimizó?"
   ]
  },
  {
   "cell_type": "code",
   "execution_count": 21,
   "metadata": {},
   "outputs": [
    {
     "name": "stdout",
     "output_type": "stream",
     "text": [
      "0\n",
      "1\n",
      "2\n",
      "3\n",
      "5\n",
      "7\n",
      "11\n",
      "13\n",
      "17\n",
      "19\n",
      "23\n",
      "29\n",
      "Cantidad de ciclos: 378\n"
     ]
    }
   ],
   "source": [
    "ciclos_sin_break = 0\n",
    "n = 0\n",
    "primo = True\n",
    "while (n < tope_rango):\n",
    "    for div in range(2, n):\n",
    "        ciclos_sin_break += 1\n",
    "        if (n % div == 0):\n",
    "            primo = False\n",
    "    if (primo):\n",
    "        print(n)\n",
    "    else:\n",
    "        primo = True\n",
    "    n += 1\n",
    "print('Cantidad de ciclos: ' + str(ciclos_sin_break))"
   ]
  },
  {
   "attachments": {},
   "cell_type": "markdown",
   "metadata": {},
   "source": [
    "12) Aplicando continue, armar un ciclo while que solo imprima los valores divisibles por 12, dentro del rango de números de 100 a 300"
   ]
  },
  {
   "cell_type": "code",
   "execution_count": 22,
   "metadata": {},
   "outputs": [
    {
     "name": "stdout",
     "output_type": "stream",
     "text": [
      "108  es divisible por 12\n",
      "120  es divisible por 12\n",
      "132  es divisible por 12\n",
      "144  es divisible por 12\n",
      "156  es divisible por 12\n",
      "168  es divisible por 12\n",
      "180  es divisible por 12\n",
      "192  es divisible por 12\n",
      "204  es divisible por 12\n",
      "216  es divisible por 12\n",
      "228  es divisible por 12\n",
      "240  es divisible por 12\n",
      "252  es divisible por 12\n",
      "264  es divisible por 12\n",
      "276  es divisible por 12\n",
      "288  es divisible por 12\n",
      "300  es divisible por 12\n"
     ]
    }
   ],
   "source": [
    "n = 99\n",
    "while(n <= 300):\n",
    "    n += 1\n",
    "    if (n % 12 != 0):\n",
    "        continue\n",
    "    print(n, ' es divisible por 12')"
   ]
  },
  {
   "cell_type": "code",
   "execution_count": 23,
   "metadata": {},
   "outputs": [
    {
     "name": "stdout",
     "output_type": "stream",
     "text": [
      "108 es divisible por 12\n",
      "120 es divisible por 12\n",
      "132 es divisible por 12\n",
      "144 es divisible por 12\n",
      "156 es divisible por 12\n",
      "168 es divisible por 12\n",
      "180 es divisible por 12\n",
      "192 es divisible por 12\n",
      "204 es divisible por 12\n",
      "216 es divisible por 12\n",
      "228 es divisible por 12\n",
      "240 es divisible por 12\n",
      "252 es divisible por 12\n",
      "264 es divisible por 12\n",
      "276 es divisible por 12\n",
      "288 es divisible por 12\n",
      "300 es divisible por 12\n"
     ]
    }
   ],
   "source": [
    "# Inicializamos la variable n en 99\n",
    "n = 99\n",
    "\n",
    "# Comenzamos un bucle while que se ejecutará mientras n sea menor o igual a 300\n",
    "while n <= 300:\n",
    "    # Incrementamos n en 1 para pasar al siguiente número\n",
    "    n += 1\n",
    "    \n",
    "    # Comprobamos si n no es divisible por 12 utilizando el operador de módulo (%)\n",
    "    if n % 12 != 0:\n",
    "        # Si n no es divisible por 12, se ejecuta la instrucción 'continue' para volver al inicio del bucle while\n",
    "        # y saltar a la siguiente iteración sin ejecutar el código que sigue\n",
    "        continue\n",
    "    \n",
    "    # Si se llega a esta línea de código, significa que n es divisible por 12\n",
    "    # por lo que se imprime el mensaje indicando que n es divisible por 12\n",
    "    print(n, 'es divisible por 12')"
   ]
  },
  {
   "attachments": {},
   "cell_type": "markdown",
   "metadata": {},
   "source": [
    "13) Utilizar la función **input()** que permite hacer ingresos por teclado, para encontrar números primos y dar la opción al usario de buscar el siguiente"
   ]
  },
  {
   "cell_type": "code",
   "execution_count": 24,
   "metadata": {},
   "outputs": [
    {
     "name": "stdout",
     "output_type": "stream",
     "text": [
      "1\n",
      "¿Desea encontrar el siguiente número primo?\n"
     ]
    }
   ],
   "source": [
    "n = 1\n",
    "sigue = 1\n",
    "primo = True\n",
    "while (sigue == 1):\n",
    "    for div in range(2, n):\n",
    "        if (n % div == 0):\n",
    "            primo = False\n",
    "            break\n",
    "    if (primo):\n",
    "        print(n)\n",
    "        print('¿Desea encontrar el siguiente número primo?')\n",
    "        if (input() != '1'):\n",
    "            print('Se finaliza el proceso')\n",
    "            break\n",
    "    else:\n",
    "        primo = True\n",
    "    n += 1"
   ]
  },
  {
   "cell_type": "code",
   "execution_count": 1,
   "metadata": {},
   "outputs": [
    {
     "name": "stdout",
     "output_type": "stream",
     "text": [
      "1\n",
      "¿Desea encontrar el siguiente número primo?\n",
      "Se finaliza el proceso\n"
     ]
    }
   ],
   "source": [
    "# Inicializamos la variable n en 1\n",
    "n = 1\n",
    "\n",
    "# Inicializamos la variable sigue en 1, esto indica si el proceso de búsqueda continúa\n",
    "sigue = 1\n",
    "\n",
    "# Inicializamos la variable primo como verdadera\n",
    "primo = True\n",
    "\n",
    "# Comenzamos un bucle while que se ejecutará mientras sigue sea igual a 1\n",
    "while sigue == 1:\n",
    "    # Comenzamos un bucle for que itera desde 2 hasta n-1\n",
    "    for div in range(2, n):\n",
    "        # Comprobamos si n es divisible entre div\n",
    "        if n % div == 0:\n",
    "            # Si es divisible, marcamos primo como falso y salimos del bucle for\n",
    "            primo = False\n",
    "            break\n",
    "    \n",
    "    # Verificamos si la variable primo es verdadera\n",
    "    if primo:\n",
    "        # Si es verdadera, significa que n es un número primo, por lo que lo imprimimos\n",
    "        print(n)\n",
    "        print('¿Desea encontrar el siguiente número primo?')\n",
    "        \n",
    "        # Leemos la entrada del usuario para determinar si se continúa o se finaliza el proceso\n",
    "        if input() != '1':\n",
    "            print('Se finaliza el proceso')\n",
    "            break\n",
    "    else:\n",
    "        # Si primo es falso, significa que n no es un número primo, por lo que lo restablecemos a verdadero\n",
    "        primo = True\n",
    "    \n",
    "    # Incrementamos n en 1 para pasar al siguiente número\n",
    "    n += 1"
   ]
  },
  {
   "attachments": {},
   "cell_type": "markdown",
   "metadata": {},
   "source": [
    "14) Crear un ciclo while que encuentre dentro del rango de 100 a 300 el primer número divisible por 3 y además múltiplo de 6"
   ]
  },
  {
   "cell_type": "code",
   "execution_count": 2,
   "metadata": {},
   "outputs": [
    {
     "name": "stdout",
     "output_type": "stream",
     "text": [
      "El número es:  102\n"
     ]
    }
   ],
   "source": [
    "n = 100\n",
    "while(n<=300):\n",
    "    if (n % 6 == 0):\n",
    "        print('El número es: ', str(n))\n",
    "        break\n",
    "    n += 1"
   ]
  },
  {
   "cell_type": "code",
   "execution_count": 3,
   "metadata": {},
   "outputs": [
    {
     "name": "stdout",
     "output_type": "stream",
     "text": [
      "El número es: 102\n"
     ]
    }
   ],
   "source": [
    "# Inicializamos la variable n en 100\n",
    "n = 100\n",
    "\n",
    "# Comenzamos un bucle while que se ejecutará mientras n sea menor o igual a 300\n",
    "while n <= 300:\n",
    "    # Comprobamos si n es divisible por 6 sin dejar residuo\n",
    "    if n % 6 == 0:\n",
    "        # Si es divisible, imprimimos el mensaje y el valor de n\n",
    "        print('El número es:', n)\n",
    "        # Salimos del bucle while utilizando la instrucción 'break'\n",
    "        break\n",
    "    \n",
    "    # Incrementamos n en 1 para pasar al siguiente número\n",
    "    n += 1\n"
   ]
  }
 ],
 "metadata": {
  "interpreter": {
   "hash": "c85384e4cb51c8b72350f3a8712cc8351fdc3955e32a27f9b60c6242ab125f01"
  },
  "kernelspec": {
   "display_name": "Python 3 (ipykernel)",
   "language": "python",
   "name": "python3"
  },
  "language_info": {
   "codemirror_mode": {
    "name": "ipython",
    "version": 3
   },
   "file_extension": ".py",
   "mimetype": "text/x-python",
   "name": "python",
   "nbconvert_exporter": "python",
   "pygments_lexer": "ipython3",
   "version": "3.12.2"
  }
 },
 "nbformat": 4,
 "nbformat_minor": 4
}
